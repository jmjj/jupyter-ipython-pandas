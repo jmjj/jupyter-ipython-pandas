{
 "cells": [
  {
   "cell_type": "markdown",
   "metadata": {},
   "source": [
    "# First steps with Jupyter/IPython and Pandas"
   ]
  },
  {
   "cell_type": "markdown",
   "metadata": {},
   "source": [
    "## Table of Contents\n",
    "* [Disclaimer](#Disclaimer)\n",
    "* [Introduction](#Introduction)\n",
    "* [Learning the (technical) basics of Pandas](#Learning-the-%28technical%29-basics-of-Pandas)\n",
    "* [The analysis platform](#The-analysis-platform)\n",
    "* [The case](#The-case)\n",
    "* [The data](#The-data)\n",
    "* [Cleansing the data](#Cleansing-the-data)\n",
    "* [The question](#The-question)\n",
    "* [The answer](#The-answer)\n",
    "* [Summary](#Summary)"
   ]
  },
  {
   "cell_type": "markdown",
   "metadata": {},
   "source": [
    "## Disclaimer"
   ]
  },
  {
   "cell_type": "markdown",
   "metadata": {},
   "source": [
    "While the raw data set employed in this notebook was originally published by a government organization, it is used only to illustrate the use of a collection of data manipulation tools. No conclusions regarding the government spending, appropriateness or relative scale of subsides received by individual companies etc. should be based on the results presented in this notebook."
   ]
  },
  {
   "cell_type": "markdown",
   "metadata": {},
   "source": [
    "## Introduction "
   ]
  },
  {
   "cell_type": "markdown",
   "metadata": {},
   "source": [
    "The purpose of this workbook is to document the very first steps of Data Analysis using [Pandas](http://pandas.pydata.org/) data manipulation library. While a number of good tutorials and blog posts on this topic exists, they usually skip a number ‘ugly’ steps that a newcomer will face in the early phases of the attempted analysis.  A good example of these ‘ugly’ steps that is often omitted is the recognition of the character encoding of the input data. Very few tutorials tell what happens when, say, the column name contains characters that are incorrectly decoded. Even less is said how the ‘intelligent guessing’ of the correct encoding can be done, if no explicit information about the coding is available.\n"
   ]
  },
  {
   "cell_type": "markdown",
   "metadata": {},
   "source": [
    "## Learning the (technical) basics of Pandas"
   ]
  },
  {
   "cell_type": "markdown",
   "metadata": {},
   "source": [
    "Before proceeding further in this notebook, it is worth reading the standard Pandas tutorials, e.g., \n",
    "[this](https://bitbucket.org/hrojas/learn-pandas) or [this](https://github.com/jvns/pandas-cookbook), so that you are familiar with the basic technicalities of the tool at hand. It is also useful to study the key [data structures](http://pandas.pydata.org/pandas-docs/stable/dsintro.html) of Pandas.\n",
    "As you might guess, my favourite tool for studying data is Jupyter/IPython; a tutorial can be found [here](http://ipython.org/ipython-doc/3/notebook/index.html)."
   ]
  },
  {
   "cell_type": "markdown",
   "metadata": {},
   "source": [
    "## The analysis platform"
   ]
  },
  {
   "cell_type": "markdown",
   "metadata": {},
   "source": [
    "I am developing and maintaining this IPython Notebook on a computer running Linux Mint with the following specifications:"
   ]
  },
  {
   "cell_type": "code",
   "execution_count": 1,
   "metadata": {
    "collapsed": false
   },
   "outputs": [
    {
     "name": "stdout",
     "output_type": "stream",
     "text": [
      "DISTRIB_ID=LinuxMint\r\n",
      "DISTRIB_RELEASE=17.2\r\n",
      "DISTRIB_CODENAME=rafaela\r\n",
      "DISTRIB_DESCRIPTION=\"Linux Mint 17.2 Rafaela\"\r\n"
     ]
    }
   ],
   "source": [
    "!cat /etc/lsb-release"
   ]
  },
  {
   "cell_type": "markdown",
   "metadata": {},
   "source": [
    "The corresponding version information of the IPython installation is the following:"
   ]
  },
  {
   "cell_type": "code",
   "execution_count": 2,
   "metadata": {
    "collapsed": false
   },
   "outputs": [
    {
     "name": "stdout",
     "output_type": "stream",
     "text": [
      "4.0.3\n"
     ]
    }
   ],
   "source": [
    "import IPython\n",
    "print(IPython.__version__)"
   ]
  },
  {
   "cell_type": "markdown",
   "metadata": {},
   "source": [
    "The version of Pandas can be found in the following way:"
   ]
  },
  {
   "cell_type": "code",
   "execution_count": 3,
   "metadata": {
    "collapsed": false
   },
   "outputs": [
    {
     "name": "stdout",
     "output_type": "stream",
     "text": [
      "\n",
      "INSTALLED VERSIONS\n",
      "------------------\n",
      "commit: None\n",
      "python: 3.4.3.final.0\n",
      "python-bits: 64\n",
      "OS: Linux\n",
      "OS-release: 4.2.0-19-lowlatency\n",
      "machine: x86_64\n",
      "processor: x86_64\n",
      "byteorder: little\n",
      "LC_ALL: None\n",
      "LANG: fi_FI.UTF-8\n",
      "\n",
      "pandas: 0.17.1\n",
      "nose: None\n",
      "pip: 8.0.2\n",
      "setuptools: 19.4\n",
      "Cython: 0.23.4\n",
      "numpy: 1.10.4\n",
      "scipy: 0.17.0\n",
      "statsmodels: None\n",
      "IPython: 4.0.3\n",
      "sphinx: 1.3.5\n",
      "patsy: None\n",
      "dateutil: 2.4.2\n",
      "pytz: 2015.7\n",
      "blosc: None\n",
      "bottleneck: None\n",
      "tables: None\n",
      "numexpr: None\n",
      "matplotlib: 1.5.1\n",
      "openpyxl: None\n",
      "xlrd: None\n",
      "xlwt: None\n",
      "xlsxwriter: None\n",
      "lxml: None\n",
      "bs4: None\n",
      "html5lib: 0.999\n",
      "httplib2: 0.8\n",
      "apiclient: None\n",
      "sqlalchemy: None\n",
      "pymysql: None\n",
      "psycopg2: None\n",
      "Jinja2: None\n"
     ]
    }
   ],
   "source": [
    "import pandas as pd\n",
    "pd.show_versions(as_json=False)"
   ]
  },
  {
   "cell_type": "markdown",
   "metadata": {},
   "source": [
    "## The case"
   ]
  },
  {
   "cell_type": "markdown",
   "metadata": {},
   "source": [
    "The investigative program [MOT](http://yle.fi/aihe/mot/tutkiva-journalismi) of Finnish Public Broadcasting Corporation [YLE](http://yle.fi/aihe/artikkeli/2014/12/31/yle-nutshell)  requested detailed information about the Finnish government subsidies to private companies via the government agency [TEKES](http://www.tekes.fi/en/) and several other ministeries and government organizations during the period of 1997-2012. MOT dedicated an [episode](http://yle.fi/aihe/artikkeli/2012/09/07/yritystukien-kanta-asiakkaat) for the analysis of the material. The episode induced a lively public discussion about the government subsidies to private companies. "
   ]
  },
  {
   "cell_type": "markdown",
   "metadata": {},
   "source": [
    "## The data"
   ]
  },
  {
   "cell_type": "markdown",
   "metadata": {},
   "source": [
    "The raw data of the case is available both on the MOT program web pages and from the [pages](https://www.avoindata.fi/data/en/dataset/mot-yritystukiaineisto-1997-2013) of  the portal to national open data and the tools and instructions promoting interoperability, [avoindata.fi](avoindata.fi). The direct link to the data file is the somewhat cumbersome\n",
    "\n"
   ]
  },
  {
   "cell_type": "markdown",
   "metadata": {},
   "source": [
    "[https://www.avoindata.fi/dataset/8ae2bfd9-5e2c-42c5-a5d7-313cf2bdeabc/resource/d3b857bb-ffef-4424-94c0-e2b5a5be46d0/download/yritystuet19972013ylemotaineisto.csv](https://www.avoindata.fi/dataset/8ae2bfd9-5e2c-42c5-a5d7-313cf2bdeabc/resource/d3b857bb-ffef-4424-94c0-e2b5a5be46d0/download/yritystuet19972013ylemotaineisto.csv)"
   ]
  },
  {
   "cell_type": "markdown",
   "metadata": {},
   "source": [
    "Let’s first fetch the data to the local storage with the standard `wget` program:"
   ]
  },
  {
   "cell_type": "code",
   "execution_count": 4,
   "metadata": {
    "collapsed": false
   },
   "outputs": [
    {
     "name": "stdout",
     "output_type": "stream",
     "text": [
      "--2016-03-01 18:39:56--  https://www.avoindata.fi/dataset/8ae2bfd9-5e2c-42c5-a5d7-313cf2bdeabc/resource/d3b857bb-ffef-4424-94c0-e2b5a5be46d0/download/yritystuet19972013ylemotaineisto.csv\n",
      "Resolving www.avoindata.fi (www.avoindata.fi)... 54.154.159.241\n",
      "Connecting to www.avoindata.fi (www.avoindata.fi)|54.154.159.241|:443... connected.\n",
      "HTTP request sent, awaiting response... 301 Moved Permanently\n",
      "Location: https://www.avoindata.fi/data/dataset/8ae2bfd9-5e2c-42c5-a5d7-313cf2bdeabc/resource/d3b857bb-ffef-4424-94c0-e2b5a5be46d0/download/yritystuet19972013ylemotaineisto.csv [following]\n",
      "--2016-03-01 18:39:57--  https://www.avoindata.fi/data/dataset/8ae2bfd9-5e2c-42c5-a5d7-313cf2bdeabc/resource/d3b857bb-ffef-4424-94c0-e2b5a5be46d0/download/yritystuet19972013ylemotaineisto.csv\n",
      "Reusing existing connection to www.avoindata.fi:443.\n",
      "HTTP request sent, awaiting response... 200 OK\n",
      "Length: 33342181 (32M) [text/csv]\n",
      "Saving to: ‘yritystuet19972013ylemotaineisto.csv’\n",
      "\n",
      "100%[======================================>] 33 342 181   185KB/s   in 1m 46s \n",
      "\n",
      "2016-03-01 18:41:45 (308 KB/s) - ‘yritystuet19972013ylemotaineisto.csv’ saved [33342181/33342181]\n",
      "\n"
     ]
    }
   ],
   "source": [
    "!wget https://www.avoindata.fi/dataset/8ae2bfd9-5e2c-42c5-a5d7-313cf2bdeabc/resource/d3b857bb-ffef-4424-94c0-e2b5a5be46d0/download/yritystuet19972013ylemotaineisto.csv"
   ]
  },
  {
   "cell_type": "markdown",
   "metadata": {},
   "source": [
    "After the successful download a file ‘yritystuet19972013ylemotaineisto.csv’ should exist in the same directory where this Notebook is stored. Let’s verify that this is indeed the case."
   ]
  },
  {
   "cell_type": "code",
   "execution_count": 5,
   "metadata": {
    "collapsed": false
   },
   "outputs": [
    {
     "name": "stdout",
     "output_type": "stream",
     "text": [
      "-rw-r--r-- 1 1000 1000 32M marra 27  2014 yritystuet19972013ylemotaineisto.csv\r\n"
     ]
    }
   ],
   "source": [
    "!ls -nlh yritystuet19972013ylemotaineisto.csv"
   ]
  },
  {
   "cell_type": "markdown",
   "metadata": {},
   "source": [
    "The output of the standard `ls` command with a few command line options confirms the existence of the file and reveals that file contains approximately 33 Mbytes of data. "
   ]
  },
  {
   "cell_type": "markdown",
   "metadata": {},
   "source": [
    "## Cleansing the data"
   ]
  },
  {
   "cell_type": "markdown",
   "metadata": {},
   "source": [
    "The file name suffix of the downloaded file suggests that the data is stored in [CSV-format](http://en.wikipedia.org/wiki/Comma-separated_values). Let’s list the few top lines of the file to see how it looks like."
   ]
  },
  {
   "cell_type": "code",
   "execution_count": 6,
   "metadata": {
    "collapsed": false
   },
   "outputs": [
    {
     "name": "stdout",
     "output_type": "stream",
     "text": [
      "yritys;Y-tunnus;vuosi; maksettu summa  ;tukimuoto;my�nt�j�;maakunta; lainat  ;TOL1;TOL2;TOL versio;Kommentti;\r",
      "\r\n",
      "Nokia Oyj;0112038-9;1997; 8 471 160 � ;tutkimus- ja kehitystuki;Tekes;Uusimaa;;2630;Viestint�laitteiden valmistus;NACE;;\r",
      "\r\n",
      "Oy Nokia Ab;0112038-9;1997; 2 937 085 � ;tutkimus- ja kehitystuki;Tekes;Uusimaa;;2630;Viestint�laitteiden valmistus;NACE;;\r",
      "\r\n",
      "Orion Oyj;0112283-5;1997; 2 164 850 � ;tutkimus- ja kehitystuki;Tekes;Varsinais-Suomi; 67 275 � ;ei_saatavilla;ei_saatavilla;NACE;;\r",
      "\r\n",
      "Fortum Oil and Gas Oy;0111973-2;1997; 2 145 279 � ;tutkimus- ja kehitystuki;Tekes;Uusimaa; 56 343 � ;3511;S�hk�n tuotanto ydinvoimalla;NACE;;\r",
      "\r\n",
      "Orion Oyj;0112283-5;1997; 2 118 855 � ;tutkimus- ja kehitystuki;Tekes;Uusimaa; 672 752 � ;ei_saatavilla;ei_saatavilla;NACE;;\r",
      "\r\n",
      "Metso Oyj;1538032-5;1997; 1 830 845 � ;tutkimus- ja kehitystuki;Tekes;Keski-Suomi;;2895;Paperi-, kartonki- ja pahviteollisuuden koneiden valmistus;NACE;;\r",
      "\r\n",
      "Okmetic Oyj;0596885-4;1997; 1 334 895 � ;tutkimus- ja kehitystuki;Tekes;Uusimaa; 155 575 � ;2611;Elektronisten komponenttien valmistus;NACE;;\r",
      "\r\n",
      "W�rtsil� Technology Oy Ab;0774206-6;1997; 1 160 586 � ;tutkimus- ja kehitystuki;Tekes;Pohjanmaa;;2811;Moottorien ja turbiinien valmistus (pl. lentokoneiden ja ajoneuvojen moottorit);NACE;;\r",
      "\r\n",
      "Borealis Polymers Oy;1592102-1;1997; 1 147 725 � ;tutkimus- ja kehitystuki;Tekes;Uusimaa; 232 099 � ;2016;Muoviaineiden valmistus;NACE;;\r",
      "\r\n"
     ]
    }
   ],
   "source": [
    "!head yritystuet19972013ylemotaineisto.csv"
   ]
  },
  {
   "cell_type": "markdown",
   "metadata": {},
   "source": [
    "`head` is a standard Linux command for printing a few first lines of the file whose name is given as an argument."
   ]
  },
  {
   "cell_type": "markdown",
   "metadata": {},
   "source": [
    "A number of observations can be made from the first lines of the data:\n",
    "* The language used to describe the data is not English. It is Finnish.\n",
    "* Persons who understand Finnish language see easily that not all characters rendered correctly. The first line of the data, for instance, contains most likely the word 'myöntäjä' (= the government organization that has granted the subsidy.) but letters 'ö' and 'ä' are not rendered correctly. There seems to be at least one more charater that is not rendered correctly, but let's worry about the meaning of that character later.\n",
    "* It seems that the separator between the fields in semicolon (;), not comma(,)."
   ]
  },
  {
   "cell_type": "markdown",
   "metadata": {},
   "source": [
    "Before diving deeper into analysis, let's find out what character coding is employed. If you are not familiar with the character encodings then you might want to find an utility program that detects the character encoding. It turns out that there are a number of utility programs running on Linux. Unfortunately many of these programs not usable, e.g., they tell explicitly that they do not recognize the encoding, they die during the execution etc. The one that I found to operate as expected was `uchardet`."
   ]
  },
  {
   "cell_type": "code",
   "execution_count": 7,
   "metadata": {
    "collapsed": false
   },
   "outputs": [
    {
     "name": "stdout",
     "output_type": "stream",
     "text": [
      "windows-1252\r\n"
     ]
    }
   ],
   "source": [
    "!uchardet yritystuet19972013ylemotaineisto.csv"
   ]
  },
  {
   "cell_type": "markdown",
   "metadata": {},
   "source": [
    "Now that we know the character encoding employed when the data was generated, it is time to find out how this information could be utilized so that the data is read correctly. By ispecting the documentation of [read_csv](http://pandas.pydata.org/pandas-docs/stable/generated/pandas.read_csv.html) method, it turns out that parameter `encoding=` can be used to read the data correctly."
   ]
  },
  {
   "cell_type": "code",
   "execution_count": 8,
   "metadata": {
    "collapsed": false
   },
   "outputs": [
    {
     "name": "stderr",
     "output_type": "stream",
     "text": [
      "/usr/local/lib/python3.4/dist-packages/IPython/core/interactiveshell.py:2902: DtypeWarning: Columns (7,8,9,10,11) have mixed types. Specify dtype option on import or set low_memory=False.\n",
      "  interactivity=interactivity, compiler=compiler, result=result)\n"
     ]
    }
   ],
   "source": [
    "import pandas as pd\n",
    "import numpy as np\n",
    "df = pd.read_csv(\"yritystuet19972013ylemotaineisto.csv\", sep=';',encoding=\"windows-1252\")\n"
   ]
  },
  {
   "cell_type": "markdown",
   "metadata": {},
   "source": [
    "While the raw reading of the data now succeeds, it seems that Pandas interprets values occurring in certain columns being  different data types while  each column should contain only same type of data. Let's investigate which columns contain mismatching data types:\n",
    "\n"
   ]
  },
  {
   "cell_type": "code",
   "execution_count": 9,
   "metadata": {
    "collapsed": false
   },
   "outputs": [
    {
     "name": "stdout",
     "output_type": "stream",
     "text": [
      " lainat   TOL1 TOL2 TOL versio Kommentti\n"
     ]
    }
   ],
   "source": [
    "print(df.columns[7],df.columns[8],df.columns[9],df.columns[10],df.columns[11])"
   ]
  },
  {
   "cell_type": "markdown",
   "metadata": {},
   "source": [
    "While keeping in mind the reported mismatch of datatypes, let's follow the advice of the warnign above and read the data in for now."
   ]
  },
  {
   "cell_type": "code",
   "execution_count": 10,
   "metadata": {
    "collapsed": false
   },
   "outputs": [],
   "source": [
    "df = pd.read_csv(\"yritystuet19972013ylemotaineisto.csv\", low_memory=False, encoding=\"windows-1252\",sep=';')"
   ]
  },
  {
   "cell_type": "markdown",
   "metadata": {},
   "source": [
    "Importing the data seems to work now without any warnings, so let’s see the first few lines of the data."
   ]
  },
  {
   "cell_type": "code",
   "execution_count": 11,
   "metadata": {
    "collapsed": false
   },
   "outputs": [
    {
     "data": {
      "text/html": [
       "<div>\n",
       "<table border=\"1\" class=\"dataframe\">\n",
       "  <thead>\n",
       "    <tr style=\"text-align: right;\">\n",
       "      <th></th>\n",
       "      <th>yritys</th>\n",
       "      <th>Y-tunnus</th>\n",
       "      <th>vuosi</th>\n",
       "      <th>maksettu summa</th>\n",
       "      <th>tukimuoto</th>\n",
       "      <th>myöntäjä</th>\n",
       "      <th>maakunta</th>\n",
       "      <th>lainat</th>\n",
       "      <th>TOL1</th>\n",
       "      <th>TOL2</th>\n",
       "      <th>TOL versio</th>\n",
       "      <th>Kommentti</th>\n",
       "      <th>Unnamed: 12</th>\n",
       "    </tr>\n",
       "  </thead>\n",
       "  <tbody>\n",
       "    <tr>\n",
       "      <th>0</th>\n",
       "      <td>Nokia Oyj</td>\n",
       "      <td>0112038-9</td>\n",
       "      <td>1997</td>\n",
       "      <td>8 471 160 €</td>\n",
       "      <td>tutkimus- ja kehitystuki</td>\n",
       "      <td>Tekes</td>\n",
       "      <td>Uusimaa</td>\n",
       "      <td>NaN</td>\n",
       "      <td>2630</td>\n",
       "      <td>Viestintälaitteiden valmistus</td>\n",
       "      <td>NACE</td>\n",
       "      <td>NaN</td>\n",
       "      <td>NaN</td>\n",
       "    </tr>\n",
       "    <tr>\n",
       "      <th>1</th>\n",
       "      <td>Oy Nokia Ab</td>\n",
       "      <td>0112038-9</td>\n",
       "      <td>1997</td>\n",
       "      <td>2 937 085 €</td>\n",
       "      <td>tutkimus- ja kehitystuki</td>\n",
       "      <td>Tekes</td>\n",
       "      <td>Uusimaa</td>\n",
       "      <td>NaN</td>\n",
       "      <td>2630</td>\n",
       "      <td>Viestintälaitteiden valmistus</td>\n",
       "      <td>NACE</td>\n",
       "      <td>NaN</td>\n",
       "      <td>NaN</td>\n",
       "    </tr>\n",
       "    <tr>\n",
       "      <th>2</th>\n",
       "      <td>Orion Oyj</td>\n",
       "      <td>0112283-5</td>\n",
       "      <td>1997</td>\n",
       "      <td>2 164 850 €</td>\n",
       "      <td>tutkimus- ja kehitystuki</td>\n",
       "      <td>Tekes</td>\n",
       "      <td>Varsinais-Suomi</td>\n",
       "      <td>67 275 €</td>\n",
       "      <td>ei_saatavilla</td>\n",
       "      <td>ei_saatavilla</td>\n",
       "      <td>NACE</td>\n",
       "      <td>NaN</td>\n",
       "      <td>NaN</td>\n",
       "    </tr>\n",
       "    <tr>\n",
       "      <th>3</th>\n",
       "      <td>Fortum Oil and Gas Oy</td>\n",
       "      <td>0111973-2</td>\n",
       "      <td>1997</td>\n",
       "      <td>2 145 279 €</td>\n",
       "      <td>tutkimus- ja kehitystuki</td>\n",
       "      <td>Tekes</td>\n",
       "      <td>Uusimaa</td>\n",
       "      <td>56 343 €</td>\n",
       "      <td>3511</td>\n",
       "      <td>Sähkön tuotanto ydinvoimalla</td>\n",
       "      <td>NACE</td>\n",
       "      <td>NaN</td>\n",
       "      <td>NaN</td>\n",
       "    </tr>\n",
       "    <tr>\n",
       "      <th>4</th>\n",
       "      <td>Orion Oyj</td>\n",
       "      <td>0112283-5</td>\n",
       "      <td>1997</td>\n",
       "      <td>2 118 855 €</td>\n",
       "      <td>tutkimus- ja kehitystuki</td>\n",
       "      <td>Tekes</td>\n",
       "      <td>Uusimaa</td>\n",
       "      <td>672 752 €</td>\n",
       "      <td>ei_saatavilla</td>\n",
       "      <td>ei_saatavilla</td>\n",
       "      <td>NACE</td>\n",
       "      <td>NaN</td>\n",
       "      <td>NaN</td>\n",
       "    </tr>\n",
       "  </tbody>\n",
       "</table>\n",
       "</div>"
      ],
      "text/plain": [
       "                  yritys   Y-tunnus  vuosi  maksettu summa    \\\n",
       "0              Nokia Oyj  0112038-9   1997      8 471 160 €    \n",
       "1            Oy Nokia Ab  0112038-9   1997      2 937 085 €    \n",
       "2              Orion Oyj  0112283-5   1997      2 164 850 €    \n",
       "3  Fortum Oil and Gas Oy  0111973-2   1997      2 145 279 €    \n",
       "4              Orion Oyj  0112283-5   1997      2 118 855 €    \n",
       "\n",
       "                  tukimuoto myöntäjä         maakunta     lainat    \\\n",
       "0  tutkimus- ja kehitystuki    Tekes          Uusimaa          NaN   \n",
       "1  tutkimus- ja kehitystuki    Tekes          Uusimaa          NaN   \n",
       "2  tutkimus- ja kehitystuki    Tekes  Varsinais-Suomi    67 275 €    \n",
       "3  tutkimus- ja kehitystuki    Tekes          Uusimaa    56 343 €    \n",
       "4  tutkimus- ja kehitystuki    Tekes          Uusimaa   672 752 €    \n",
       "\n",
       "            TOL1                           TOL2 TOL versio Kommentti  \\\n",
       "0           2630  Viestintälaitteiden valmistus       NACE       NaN   \n",
       "1           2630  Viestintälaitteiden valmistus       NACE       NaN   \n",
       "2  ei_saatavilla                  ei_saatavilla       NACE       NaN   \n",
       "3           3511   Sähkön tuotanto ydinvoimalla       NACE       NaN   \n",
       "4  ei_saatavilla                  ei_saatavilla       NACE       NaN   \n",
       "\n",
       "   Unnamed: 12  \n",
       "0          NaN  \n",
       "1          NaN  \n",
       "2          NaN  \n",
       "3          NaN  \n",
       "4          NaN  "
      ]
     },
     "execution_count": 11,
     "metadata": {},
     "output_type": "execute_result"
    }
   ],
   "source": [
    "df.head()"
   ]
  },
  {
   "cell_type": "markdown",
   "metadata": {},
   "source": [
    "The study of the first few lines suggest that the data is read correctly. Each line seems to be related to one funding case and the column names make sense in this context. "
   ]
  },
  {
   "cell_type": "markdown",
   "metadata": {},
   "source": [
    "To aid those readers who are not fluent with Finnish language, here are the translations of the column names:\n",
    "* **yritys**: Company/Company name\n",
    "* **Y-tunnus**: Business ID. Unique identifier available from [National Business Information System](https://www.ytj.fi/english/yrityshaku.aspx?path=1704;1736;2052&kielikoodi=3) along with the basic company information.\n",
    "* **vuosi**: Year when the subsidy was paid.\n",
    "* **maksettu summa**: The amount of the payment\n",
    "* **tukimuoto**: Type of the subsidy, e.g., subsidy for R&D\n",
    "* **myöntäjä**: Government authority granting the subsidy\n",
    "* **maakunta**: Region (=county, province). Administrative region where the subsidy has been paid to. The location of the  administrative organization that has granted the subsidy.\n",
    "* **lainat**: The amount of loans included in the subsidy.\n",
    "* **TOL1, TOL2**: Primary and secondary industry classification. Codes refer to the \n",
    "[Standard Industrial Classification TOL](http://www.tulli.fi/fi/suomen_tulli/ulkomaankauppatilastot/luokitukset/nace/index.jsp)\n",
    "* **TOL versio**: The specific version of the industrial classification in use.\n",
    "* **Kommentti**: Comment.\n",
    "\n",
    "\n"
   ]
  },
  {
   "cell_type": "markdown",
   "metadata": {},
   "source": [
    "The last column of the table seems to be redundant. The redundant column of is due to the fact that the last visible character of each line is ’;’. This leads the `read_csv` module to think that the input data contains yet column while this is not the case. Let’s prune the dummy column by selecting  only those columns that contain some sensible data\n",
    "\n"
   ]
  },
  {
   "cell_type": "code",
   "execution_count": 12,
   "metadata": {
    "collapsed": false
   },
   "outputs": [],
   "source": [
    "col_selector = [u'yritys', u'Y-tunnus', u'vuosi', u' maksettu summa  ', u'tukimuoto', u'myöntäjä', u'maakunta', u' lainat  ', u'TOL1', u'TOL2', u'TOL versio', u'Kommentti']\n",
    "df = df[col_selector]"
   ]
  },
  {
   "cell_type": "code",
   "execution_count": 13,
   "metadata": {
    "collapsed": false
   },
   "outputs": [
    {
     "data": {
      "text/html": [
       "<div>\n",
       "<table border=\"1\" class=\"dataframe\">\n",
       "  <thead>\n",
       "    <tr style=\"text-align: right;\">\n",
       "      <th></th>\n",
       "      <th>yritys</th>\n",
       "      <th>Y-tunnus</th>\n",
       "      <th>vuosi</th>\n",
       "      <th>maksettu summa</th>\n",
       "      <th>tukimuoto</th>\n",
       "      <th>myöntäjä</th>\n",
       "      <th>maakunta</th>\n",
       "      <th>lainat</th>\n",
       "      <th>TOL1</th>\n",
       "      <th>TOL2</th>\n",
       "      <th>TOL versio</th>\n",
       "      <th>Kommentti</th>\n",
       "    </tr>\n",
       "  </thead>\n",
       "  <tbody>\n",
       "    <tr>\n",
       "      <th>0</th>\n",
       "      <td>Nokia Oyj</td>\n",
       "      <td>0112038-9</td>\n",
       "      <td>1997</td>\n",
       "      <td>8 471 160 €</td>\n",
       "      <td>tutkimus- ja kehitystuki</td>\n",
       "      <td>Tekes</td>\n",
       "      <td>Uusimaa</td>\n",
       "      <td>NaN</td>\n",
       "      <td>2630</td>\n",
       "      <td>Viestintälaitteiden valmistus</td>\n",
       "      <td>NACE</td>\n",
       "      <td>NaN</td>\n",
       "    </tr>\n",
       "    <tr>\n",
       "      <th>1</th>\n",
       "      <td>Oy Nokia Ab</td>\n",
       "      <td>0112038-9</td>\n",
       "      <td>1997</td>\n",
       "      <td>2 937 085 €</td>\n",
       "      <td>tutkimus- ja kehitystuki</td>\n",
       "      <td>Tekes</td>\n",
       "      <td>Uusimaa</td>\n",
       "      <td>NaN</td>\n",
       "      <td>2630</td>\n",
       "      <td>Viestintälaitteiden valmistus</td>\n",
       "      <td>NACE</td>\n",
       "      <td>NaN</td>\n",
       "    </tr>\n",
       "    <tr>\n",
       "      <th>2</th>\n",
       "      <td>Orion Oyj</td>\n",
       "      <td>0112283-5</td>\n",
       "      <td>1997</td>\n",
       "      <td>2 164 850 €</td>\n",
       "      <td>tutkimus- ja kehitystuki</td>\n",
       "      <td>Tekes</td>\n",
       "      <td>Varsinais-Suomi</td>\n",
       "      <td>67 275 €</td>\n",
       "      <td>ei_saatavilla</td>\n",
       "      <td>ei_saatavilla</td>\n",
       "      <td>NACE</td>\n",
       "      <td>NaN</td>\n",
       "    </tr>\n",
       "    <tr>\n",
       "      <th>3</th>\n",
       "      <td>Fortum Oil and Gas Oy</td>\n",
       "      <td>0111973-2</td>\n",
       "      <td>1997</td>\n",
       "      <td>2 145 279 €</td>\n",
       "      <td>tutkimus- ja kehitystuki</td>\n",
       "      <td>Tekes</td>\n",
       "      <td>Uusimaa</td>\n",
       "      <td>56 343 €</td>\n",
       "      <td>3511</td>\n",
       "      <td>Sähkön tuotanto ydinvoimalla</td>\n",
       "      <td>NACE</td>\n",
       "      <td>NaN</td>\n",
       "    </tr>\n",
       "    <tr>\n",
       "      <th>4</th>\n",
       "      <td>Orion Oyj</td>\n",
       "      <td>0112283-5</td>\n",
       "      <td>1997</td>\n",
       "      <td>2 118 855 €</td>\n",
       "      <td>tutkimus- ja kehitystuki</td>\n",
       "      <td>Tekes</td>\n",
       "      <td>Uusimaa</td>\n",
       "      <td>672 752 €</td>\n",
       "      <td>ei_saatavilla</td>\n",
       "      <td>ei_saatavilla</td>\n",
       "      <td>NACE</td>\n",
       "      <td>NaN</td>\n",
       "    </tr>\n",
       "  </tbody>\n",
       "</table>\n",
       "</div>"
      ],
      "text/plain": [
       "                  yritys   Y-tunnus  vuosi  maksettu summa    \\\n",
       "0              Nokia Oyj  0112038-9   1997      8 471 160 €    \n",
       "1            Oy Nokia Ab  0112038-9   1997      2 937 085 €    \n",
       "2              Orion Oyj  0112283-5   1997      2 164 850 €    \n",
       "3  Fortum Oil and Gas Oy  0111973-2   1997      2 145 279 €    \n",
       "4              Orion Oyj  0112283-5   1997      2 118 855 €    \n",
       "\n",
       "                  tukimuoto myöntäjä         maakunta     lainat    \\\n",
       "0  tutkimus- ja kehitystuki    Tekes          Uusimaa          NaN   \n",
       "1  tutkimus- ja kehitystuki    Tekes          Uusimaa          NaN   \n",
       "2  tutkimus- ja kehitystuki    Tekes  Varsinais-Suomi    67 275 €    \n",
       "3  tutkimus- ja kehitystuki    Tekes          Uusimaa    56 343 €    \n",
       "4  tutkimus- ja kehitystuki    Tekes          Uusimaa   672 752 €    \n",
       "\n",
       "            TOL1                           TOL2 TOL versio Kommentti  \n",
       "0           2630  Viestintälaitteiden valmistus       NACE       NaN  \n",
       "1           2630  Viestintälaitteiden valmistus       NACE       NaN  \n",
       "2  ei_saatavilla                  ei_saatavilla       NACE       NaN  \n",
       "3           3511   Sähkön tuotanto ydinvoimalla       NACE       NaN  \n",
       "4  ei_saatavilla                  ei_saatavilla       NACE       NaN  "
      ]
     },
     "execution_count": 13,
     "metadata": {},
     "output_type": "execute_result"
    }
   ],
   "source": [
    "df.head()\n"
   ]
  },
  {
   "cell_type": "markdown",
   "metadata": {},
   "source": [
    "OK, we now have all the desired columns in our data frame. Let's sudy the column names a bit closer:"
   ]
  },
  {
   "cell_type": "code",
   "execution_count": 14,
   "metadata": {
    "collapsed": false
   },
   "outputs": [
    {
     "data": {
      "text/plain": [
       "Index(['yritys', 'Y-tunnus', 'vuosi', ' maksettu summa  ', 'tukimuoto',\n",
       "       'myöntäjä', 'maakunta', ' lainat  ', 'TOL1', 'TOL2', 'TOL versio',\n",
       "       'Kommentti'],\n",
       "      dtype='object')"
      ]
     },
     "execution_count": 14,
     "metadata": {},
     "output_type": "execute_result"
    }
   ],
   "source": [
    "df.columns"
   ]
  },
  {
   "cell_type": "markdown",
   "metadata": {},
   "source": [
    "By looking the strings comprising column names both in raw data and in the listing of column names, one sees that few column names have extra white spaces in the beginning and in the end of the string. To make it easier to refer to these columns, let’s remove these additional white spaces.   "
   ]
  },
  {
   "cell_type": "code",
   "execution_count": 15,
   "metadata": {
    "collapsed": false
   },
   "outputs": [
    {
     "data": {
      "text/plain": [
       "Index(['yritys', 'Y-tunnus', 'vuosi', 'maksettu summa', 'tukimuoto',\n",
       "       'myöntäjä', 'maakunta', 'lainat', 'TOL1', 'TOL2', 'TOL versio',\n",
       "       'Kommentti'],\n",
       "      dtype='object')"
      ]
     },
     "execution_count": 15,
     "metadata": {},
     "output_type": "execute_result"
    }
   ],
   "source": [
    "corrected_cols = [u'yritys', u'Y-tunnus', u'vuosi', u'maksettu summa', u'tukimuoto', u'myöntäjä', u'maakunta', u'lainat', u'TOL1', u'TOL2', u'TOL versio', u'Kommentti']\n",
    "df.columns = corrected_cols\n",
    "df.columns"
   ]
  },
  {
   "cell_type": "code",
   "execution_count": 16,
   "metadata": {
    "collapsed": false
   },
   "outputs": [
    {
     "data": {
      "text/plain": [
       "0     8 471 160 € \n",
       "1     2 937 085 € \n",
       "2     2 164 850 € \n",
       "3     2 145 279 € \n",
       "4     2 118 855 € \n",
       "Name: maksettu summa, dtype: object"
      ]
     },
     "execution_count": 16,
     "metadata": {},
     "output_type": "execute_result"
    }
   ],
   "source": [
    "df['maksettu summa'].head()"
   ]
  },
  {
   "cell_type": "markdown",
   "metadata": {},
   "source": [
    "The extra spaces are now removed fromt the column names. Unfortunately, the output of `df['maksettu summa'].head()` offers yet another nasty surprise: The data type of the column `maksettu summa` is not an integer or float. This means that we can not make summaries of it right now. Let's verify this suspected state of affairs:"
   ]
  },
  {
   "cell_type": "code",
   "execution_count": 17,
   "metadata": {
    "collapsed": false
   },
   "outputs": [
    {
     "data": {
      "text/plain": [
       "yritys            object\n",
       "Y-tunnus          object\n",
       "vuosi              int64\n",
       "maksettu summa    object\n",
       "tukimuoto         object\n",
       "myöntäjä          object\n",
       "maakunta          object\n",
       "lainat            object\n",
       "TOL1              object\n",
       "TOL2              object\n",
       "TOL versio        object\n",
       "Kommentti         object\n",
       "dtype: object"
      ]
     },
     "execution_count": 17,
     "metadata": {},
     "output_type": "execute_result"
    }
   ],
   "source": [
    "df.dtypes"
   ]
  },
  {
   "cell_type": "markdown",
   "metadata": {},
   "source": [
    "As suspected the type of `maksettu summa` column is something else than what we want. It seems that the column contains white space  and `€` sign. The same situation can be found from the column `lainat`."
   ]
  },
  {
   "cell_type": "markdown",
   "metadata": {},
   "source": [
    "By studying again the documentation of [`read_csv` function](http://pandas.pydata.org/pandas-docs/stable/generated/pandas.read_csv.html), it becomes evident that it is possible to write a custom conversion function that manipulates the contents of selected during the reading of values. These functions can be given as a parameter `convert` to `read_csv`. Let’s write a function that removes the problematic characters from the columns `maksettu summa`and `lainat`."
   ]
  },
  {
   "cell_type": "code",
   "execution_count": 18,
   "metadata": {
    "collapsed": false
   },
   "outputs": [],
   "source": [
    "def sc(s):\n",
    "    return s.replace(u\" \",u\"\").strip(u\"€\")"
   ]
  },
  {
   "cell_type": "code",
   "execution_count": 19,
   "metadata": {
    "collapsed": false
   },
   "outputs": [
    {
     "name": "stdout",
     "output_type": "stream",
     "text": [
      "1830845\n"
     ]
    }
   ],
   "source": [
    "print(sc(u\"1 830 845 €\"))"
   ]
  },
  {
   "cell_type": "markdown",
   "metadata": {},
   "source": [
    "As the converter function seems to work, let’s re-read the data. Let's also drop again the dummy column of the original data and correct the column names."
   ]
  },
  {
   "cell_type": "code",
   "execution_count": 20,
   "metadata": {
    "collapsed": false
   },
   "outputs": [],
   "source": [
    "df = pd.read_csv(\"yritystuet19972013ylemotaineisto.csv\",low_memory=False,sep=';',encoding=\"windows-1252\",converters={u' maksettu summa  ':sc, u' lainat  ':sc})"
   ]
  },
  {
   "cell_type": "code",
   "execution_count": 21,
   "metadata": {
    "collapsed": false
   },
   "outputs": [
    {
     "data": {
      "text/html": [
       "<div>\n",
       "<table border=\"1\" class=\"dataframe\">\n",
       "  <thead>\n",
       "    <tr style=\"text-align: right;\">\n",
       "      <th></th>\n",
       "      <th>yritys</th>\n",
       "      <th>Y-tunnus</th>\n",
       "      <th>vuosi</th>\n",
       "      <th>maksettu summa</th>\n",
       "      <th>tukimuoto</th>\n",
       "      <th>myöntäjä</th>\n",
       "      <th>maakunta</th>\n",
       "      <th>lainat</th>\n",
       "      <th>TOL1</th>\n",
       "      <th>TOL2</th>\n",
       "      <th>TOL versio</th>\n",
       "      <th>Kommentti</th>\n",
       "    </tr>\n",
       "  </thead>\n",
       "  <tbody>\n",
       "    <tr>\n",
       "      <th>0</th>\n",
       "      <td>Nokia Oyj</td>\n",
       "      <td>0112038-9</td>\n",
       "      <td>1997</td>\n",
       "      <td>8471160</td>\n",
       "      <td>tutkimus- ja kehitystuki</td>\n",
       "      <td>Tekes</td>\n",
       "      <td>Uusimaa</td>\n",
       "      <td></td>\n",
       "      <td>2630</td>\n",
       "      <td>Viestintälaitteiden valmistus</td>\n",
       "      <td>NACE</td>\n",
       "      <td>NaN</td>\n",
       "    </tr>\n",
       "    <tr>\n",
       "      <th>1</th>\n",
       "      <td>Oy Nokia Ab</td>\n",
       "      <td>0112038-9</td>\n",
       "      <td>1997</td>\n",
       "      <td>2937085</td>\n",
       "      <td>tutkimus- ja kehitystuki</td>\n",
       "      <td>Tekes</td>\n",
       "      <td>Uusimaa</td>\n",
       "      <td></td>\n",
       "      <td>2630</td>\n",
       "      <td>Viestintälaitteiden valmistus</td>\n",
       "      <td>NACE</td>\n",
       "      <td>NaN</td>\n",
       "    </tr>\n",
       "    <tr>\n",
       "      <th>2</th>\n",
       "      <td>Orion Oyj</td>\n",
       "      <td>0112283-5</td>\n",
       "      <td>1997</td>\n",
       "      <td>2164850</td>\n",
       "      <td>tutkimus- ja kehitystuki</td>\n",
       "      <td>Tekes</td>\n",
       "      <td>Varsinais-Suomi</td>\n",
       "      <td>67275</td>\n",
       "      <td>ei_saatavilla</td>\n",
       "      <td>ei_saatavilla</td>\n",
       "      <td>NACE</td>\n",
       "      <td>NaN</td>\n",
       "    </tr>\n",
       "    <tr>\n",
       "      <th>3</th>\n",
       "      <td>Fortum Oil and Gas Oy</td>\n",
       "      <td>0111973-2</td>\n",
       "      <td>1997</td>\n",
       "      <td>2145279</td>\n",
       "      <td>tutkimus- ja kehitystuki</td>\n",
       "      <td>Tekes</td>\n",
       "      <td>Uusimaa</td>\n",
       "      <td>56343</td>\n",
       "      <td>3511</td>\n",
       "      <td>Sähkön tuotanto ydinvoimalla</td>\n",
       "      <td>NACE</td>\n",
       "      <td>NaN</td>\n",
       "    </tr>\n",
       "    <tr>\n",
       "      <th>4</th>\n",
       "      <td>Orion Oyj</td>\n",
       "      <td>0112283-5</td>\n",
       "      <td>1997</td>\n",
       "      <td>2118855</td>\n",
       "      <td>tutkimus- ja kehitystuki</td>\n",
       "      <td>Tekes</td>\n",
       "      <td>Uusimaa</td>\n",
       "      <td>672752</td>\n",
       "      <td>ei_saatavilla</td>\n",
       "      <td>ei_saatavilla</td>\n",
       "      <td>NACE</td>\n",
       "      <td>NaN</td>\n",
       "    </tr>\n",
       "  </tbody>\n",
       "</table>\n",
       "</div>"
      ],
      "text/plain": [
       "                  yritys   Y-tunnus  vuosi maksettu summa  \\\n",
       "0              Nokia Oyj  0112038-9   1997        8471160   \n",
       "1            Oy Nokia Ab  0112038-9   1997        2937085   \n",
       "2              Orion Oyj  0112283-5   1997        2164850   \n",
       "3  Fortum Oil and Gas Oy  0111973-2   1997        2145279   \n",
       "4              Orion Oyj  0112283-5   1997        2118855   \n",
       "\n",
       "                  tukimuoto myöntäjä         maakunta  lainat           TOL1  \\\n",
       "0  tutkimus- ja kehitystuki    Tekes          Uusimaa                   2630   \n",
       "1  tutkimus- ja kehitystuki    Tekes          Uusimaa                   2630   \n",
       "2  tutkimus- ja kehitystuki    Tekes  Varsinais-Suomi   67275  ei_saatavilla   \n",
       "3  tutkimus- ja kehitystuki    Tekes          Uusimaa   56343           3511   \n",
       "4  tutkimus- ja kehitystuki    Tekes          Uusimaa  672752  ei_saatavilla   \n",
       "\n",
       "                            TOL2 TOL versio Kommentti  \n",
       "0  Viestintälaitteiden valmistus       NACE       NaN  \n",
       "1  Viestintälaitteiden valmistus       NACE       NaN  \n",
       "2                  ei_saatavilla       NACE       NaN  \n",
       "3   Sähkön tuotanto ydinvoimalla       NACE       NaN  \n",
       "4                  ei_saatavilla       NACE       NaN  "
      ]
     },
     "execution_count": 21,
     "metadata": {},
     "output_type": "execute_result"
    }
   ],
   "source": [
    "col_selector = [u'yritys', u'Y-tunnus', u'vuosi', u' maksettu summa  ', u'tukimuoto', u'myöntäjä', u'maakunta', u' lainat  ', u'TOL1', u'TOL2', u'TOL versio', u'Kommentti']\n",
    "df = df[col_selector]\n",
    "\n",
    "corrected_cols = [u'yritys', u'Y-tunnus', u'vuosi', u'maksettu summa', u'tukimuoto', u'myöntäjä', u'maakunta', u'lainat', u'TOL1', u'TOL2', u'TOL versio', u'Kommentti']\n",
    "df.columns = corrected_cols\n",
    "\n",
    "df.columns\n",
    "df.head()"
   ]
  },
  {
   "cell_type": "code",
   "execution_count": 22,
   "metadata": {
    "collapsed": false
   },
   "outputs": [
    {
     "data": {
      "text/plain": [
       "yritys            object\n",
       "Y-tunnus          object\n",
       "vuosi              int64\n",
       "maksettu summa    object\n",
       "tukimuoto         object\n",
       "myöntäjä          object\n",
       "maakunta          object\n",
       "lainat            object\n",
       "TOL1              object\n",
       "TOL2              object\n",
       "TOL versio        object\n",
       "Kommentti         object\n",
       "dtype: object"
      ]
     },
     "execution_count": 22,
     "metadata": {},
     "output_type": "execute_result"
    }
   ],
   "source": [
    "df.dtypes"
   ]
  },
  {
   "cell_type": "markdown",
   "metadata": {},
   "source": [
    "Everything seems to be set now for the adjustment of the column types; let’s start with `maksettu summa` column."
   ]
  },
  {
   "cell_type": "code",
   "execution_count": 23,
   "metadata": {
    "collapsed": false
   },
   "outputs": [],
   "source": [
    "df['maksettu summa'] = pd.to_numeric(df['maksettu summa'],errors=\"coerce\")\n"
   ]
  },
  {
   "cell_type": "markdown",
   "metadata": {},
   "source": [
    "The parmeter `error=\"coerce\"` inserts the special value  `NaN` those cells that can not be interpreted as number. `NaN` denotes missing data bud does not prevent arithmetic or other computations. "
   ]
  },
  {
   "cell_type": "markdown",
   "metadata": {},
   "source": [
    "The type conversion seems to work now, so let's adjust the other column that seems to contain monetary values.\n"
   ]
  },
  {
   "cell_type": "code",
   "execution_count": 24,
   "metadata": {
    "collapsed": false
   },
   "outputs": [],
   "source": [
    "df['lainat'] = pd.to_numeric(df['lainat'],errors=\"coerce\")"
   ]
  },
  {
   "cell_type": "markdown",
   "metadata": {
    "collapsed": false
   },
   "source": [
    "Now we should be able to carry out arithmetic operations with the interesting colums `maksettu summa` and `lainat`. This van be verfied by summing all rows of these columns.\n"
   ]
  },
  {
   "cell_type": "code",
   "execution_count": 25,
   "metadata": {
    "collapsed": false
   },
   "outputs": [
    {
     "data": {
      "text/plain": [
       "yritys             object\n",
       "Y-tunnus           object\n",
       "vuosi               int64\n",
       "maksettu summa    float64\n",
       "tukimuoto          object\n",
       "myöntäjä           object\n",
       "maakunta           object\n",
       "lainat            float64\n",
       "TOL1               object\n",
       "TOL2               object\n",
       "TOL versio         object\n",
       "Kommentti          object\n",
       "dtype: object"
      ]
     },
     "execution_count": 25,
     "metadata": {},
     "output_type": "execute_result"
    }
   ],
   "source": [
    "df.dtypes"
   ]
  },
  {
   "cell_type": "code",
   "execution_count": 26,
   "metadata": {
    "collapsed": false
   },
   "outputs": [
    {
     "name": "stdout",
     "output_type": "stream",
     "text": [
      "7644045981.0\n",
      "1188218909.0\n"
     ]
    }
   ],
   "source": [
    "print(df['maksettu summa'].sum())\n",
    "print(df['lainat'].sum())"
   ]
  },
  {
   "cell_type": "markdown",
   "metadata": {},
   "source": [
    "Because the sums are calculated without exceptions, it is safe to assume that the data is cleansed for the next steps of the analysis."
   ]
  },
  {
   "cell_type": "markdown",
   "metadata": {},
   "source": [
    "## The question"
   ]
  },
  {
   "cell_type": "markdown",
   "metadata": {},
   "source": [
    "For the shake of simplicity, let's try to acquire some insight on the following informal question:\n",
    "> ** Did the level of the yearly subsidies for the company X increase, decrease **\n",
    "> ** or stay at the same level during the timespan described by the data ?**"
   ]
  },
  {
   "cell_type": "markdown",
   "metadata": {},
   "source": [
    "This initial question is unfortunately too vague to be answered. The following issues needs to be clarified:\n",
    "* What is the interpretation of subsidy ? Only grants or both grants and loans ?\n",
    "* What is the company X that we are analysing ?\n",
    "* What period of time the data describes ?"
   ]
  },
  {
   "cell_type": "markdown",
   "metadata": {},
   "source": [
    "The start and end years of data are not needed at this stage. Let's nevertheless find out what these years are as a warm up exercise.  The time span of the data is easy to find because the column `year` contains the year when the subsidy was granted, i.e., we only need to find the smallest and largest value present in this column."
   ]
  },
  {
   "cell_type": "code",
   "execution_count": 27,
   "metadata": {
    "collapsed": false
   },
   "outputs": [
    {
     "name": "stdout",
     "output_type": "stream",
     "text": [
      "1997 2013\n"
     ]
    }
   ],
   "source": [
    "start_year =  df['vuosi'].min()\n",
    "end_year =  df['vuosi'].max()\n",
    "print(start_year, end_year)"
   ]
  },
  {
   "cell_type": "markdown",
   "metadata": {},
   "source": [
    "For the sake of simplicity, let's first concentrate on the grants only, i.e. column `maksettu summa`. The identical analys can be done easily on loans (column `lainat`) if needed."
   ]
  },
  {
   "cell_type": "markdown",
   "metadata": {},
   "source": [
    "What would be an interesting company X to be analysed ? For illustrative and technical reasons related to the cleasing of the raw data, let's analyse the subsidies received by Nokia Corporation, the Finnish telecommunications and ex-mobile phone company."
   ]
  },
  {
   "cell_type": "markdown",
   "metadata": {
    "collapsed": false
   },
   "source": [
    "Just like any major corporation, Nokia is not only a single legal entily, but in fact a colelction of interrelated legal entities. How do we pick the relevant companies from the raw data ? Let's apply the follwoing straightforward procedure:\n",
    "1. Find all lines of the raw data having a company name containing word  'Nokia'.\n",
    "2. Create such a table that consists of columns `yritys` and `Y-tunnus`and all rows contain unique business ID.  \n",
    "3. From the result of step 2., investigate each line manually and pick the business id's of those companies that seem to be companies in Nokia's corporate ecosystem.\n"
   ]
  },
  {
   "cell_type": "markdown",
   "metadata": {},
   "source": [
    "Step 1. is done in the following way:"
   ]
  },
  {
   "cell_type": "code",
   "execution_count": 28,
   "metadata": {
    "collapsed": false,
    "scrolled": true
   },
   "outputs": [],
   "source": [
    "df_name_contains_nokia = df[df['yritys'].str.contains('Nokia')]"
   ]
  },
  {
   "cell_type": "code",
   "execution_count": 29,
   "metadata": {
    "collapsed": false
   },
   "outputs": [
    {
     "data": {
      "text/html": [
       "<div>\n",
       "<table border=\"1\" class=\"dataframe\">\n",
       "  <thead>\n",
       "    <tr style=\"text-align: right;\">\n",
       "      <th></th>\n",
       "      <th>yritys</th>\n",
       "      <th>Y-tunnus</th>\n",
       "      <th>vuosi</th>\n",
       "      <th>maksettu summa</th>\n",
       "      <th>tukimuoto</th>\n",
       "      <th>myöntäjä</th>\n",
       "      <th>maakunta</th>\n",
       "      <th>lainat</th>\n",
       "      <th>TOL1</th>\n",
       "      <th>TOL2</th>\n",
       "      <th>TOL versio</th>\n",
       "      <th>Kommentti</th>\n",
       "    </tr>\n",
       "  </thead>\n",
       "  <tbody>\n",
       "    <tr>\n",
       "      <th>0</th>\n",
       "      <td>Nokia Oyj</td>\n",
       "      <td>0112038-9</td>\n",
       "      <td>1997</td>\n",
       "      <td>8471160</td>\n",
       "      <td>tutkimus- ja kehitystuki</td>\n",
       "      <td>Tekes</td>\n",
       "      <td>Uusimaa</td>\n",
       "      <td>NaN</td>\n",
       "      <td>2630</td>\n",
       "      <td>Viestintälaitteiden valmistus</td>\n",
       "      <td>NACE</td>\n",
       "      <td>NaN</td>\n",
       "    </tr>\n",
       "    <tr>\n",
       "      <th>1</th>\n",
       "      <td>Oy Nokia Ab</td>\n",
       "      <td>0112038-9</td>\n",
       "      <td>1997</td>\n",
       "      <td>2937085</td>\n",
       "      <td>tutkimus- ja kehitystuki</td>\n",
       "      <td>Tekes</td>\n",
       "      <td>Uusimaa</td>\n",
       "      <td>NaN</td>\n",
       "      <td>2630</td>\n",
       "      <td>Viestintälaitteiden valmistus</td>\n",
       "      <td>NACE</td>\n",
       "      <td>NaN</td>\n",
       "    </tr>\n",
       "    <tr>\n",
       "      <th>9</th>\n",
       "      <td>Nokia Matkapuhelimet Oy</td>\n",
       "      <td>0300326-6</td>\n",
       "      <td>1997</td>\n",
       "      <td>1124884</td>\n",
       "      <td>tutkimus- ja kehitystuki</td>\n",
       "      <td>Tekes</td>\n",
       "      <td>Varsinais-Suomi</td>\n",
       "      <td>NaN</td>\n",
       "      <td>ei_saatavilla</td>\n",
       "      <td>ei_saatavilla</td>\n",
       "      <td>NACE</td>\n",
       "      <td>NaN</td>\n",
       "    </tr>\n",
       "    <tr>\n",
       "      <th>18</th>\n",
       "      <td>Nokia Networks Oy</td>\n",
       "      <td>0101120-3</td>\n",
       "      <td>1997</td>\n",
       "      <td>750801</td>\n",
       "      <td>tutkimus- ja kehitystuki</td>\n",
       "      <td>Tekes</td>\n",
       "      <td>Uusimaa</td>\n",
       "      <td>NaN</td>\n",
       "      <td>2630</td>\n",
       "      <td>Viestintälaitteiden valmistus</td>\n",
       "      <td>NACE</td>\n",
       "      <td>NaN</td>\n",
       "    </tr>\n",
       "    <tr>\n",
       "      <th>36</th>\n",
       "      <td>Nokia Oyj</td>\n",
       "      <td>0112038-9</td>\n",
       "      <td>1997</td>\n",
       "      <td>537200</td>\n",
       "      <td>tutkimus- ja kehitystuki</td>\n",
       "      <td>Tekes</td>\n",
       "      <td>Pirkanmaa</td>\n",
       "      <td>NaN</td>\n",
       "      <td>2630</td>\n",
       "      <td>Viestintälaitteiden valmistus</td>\n",
       "      <td>NACE</td>\n",
       "      <td>NaN</td>\n",
       "    </tr>\n",
       "  </tbody>\n",
       "</table>\n",
       "</div>"
      ],
      "text/plain": [
       "                     yritys   Y-tunnus  vuosi  maksettu summa  \\\n",
       "0                 Nokia Oyj  0112038-9   1997         8471160   \n",
       "1               Oy Nokia Ab  0112038-9   1997         2937085   \n",
       "9   Nokia Matkapuhelimet Oy  0300326-6   1997         1124884   \n",
       "18        Nokia Networks Oy  0101120-3   1997          750801   \n",
       "36                Nokia Oyj  0112038-9   1997          537200   \n",
       "\n",
       "                   tukimuoto myöntäjä         maakunta  lainat           TOL1  \\\n",
       "0   tutkimus- ja kehitystuki    Tekes          Uusimaa     NaN           2630   \n",
       "1   tutkimus- ja kehitystuki    Tekes          Uusimaa     NaN           2630   \n",
       "9   tutkimus- ja kehitystuki    Tekes  Varsinais-Suomi     NaN  ei_saatavilla   \n",
       "18  tutkimus- ja kehitystuki    Tekes          Uusimaa     NaN           2630   \n",
       "36  tutkimus- ja kehitystuki    Tekes        Pirkanmaa     NaN           2630   \n",
       "\n",
       "                             TOL2 TOL versio Kommentti  \n",
       "0   Viestintälaitteiden valmistus       NACE       NaN  \n",
       "1   Viestintälaitteiden valmistus       NACE       NaN  \n",
       "9                   ei_saatavilla       NACE       NaN  \n",
       "18  Viestintälaitteiden valmistus       NACE       NaN  \n",
       "36  Viestintälaitteiden valmistus       NACE       NaN  "
      ]
     },
     "execution_count": 29,
     "metadata": {},
     "output_type": "execute_result"
    }
   ],
   "source": [
    "df_name_contains_nokia.head()"
   ]
  },
  {
   "cell_type": "markdown",
   "metadata": {},
   "source": [
    "By printing a few rows of `df_name_contains_nokia` it indeed seems that the variable contains now all rows where the company name contains the string 'Ǹokia'. Unfortunately not all such companies are associsted withe the desired telecommunication Conglomerate. The company name 'Nokian Vaneritarvike Oy', for example, suggests that the company sells timber: "
   ]
  },
  {
   "cell_type": "code",
   "execution_count": 30,
   "metadata": {
    "collapsed": false
   },
   "outputs": [
    {
     "data": {
      "text/html": [
       "<div>\n",
       "<table border=\"1\" class=\"dataframe\">\n",
       "  <thead>\n",
       "    <tr style=\"text-align: right;\">\n",
       "      <th></th>\n",
       "      <th>yritys</th>\n",
       "      <th>Y-tunnus</th>\n",
       "      <th>vuosi</th>\n",
       "      <th>maksettu summa</th>\n",
       "      <th>tukimuoto</th>\n",
       "      <th>myöntäjä</th>\n",
       "      <th>maakunta</th>\n",
       "      <th>lainat</th>\n",
       "      <th>TOL1</th>\n",
       "      <th>TOL2</th>\n",
       "      <th>TOL versio</th>\n",
       "      <th>Kommentti</th>\n",
       "    </tr>\n",
       "  </thead>\n",
       "  <tbody>\n",
       "    <tr>\n",
       "      <th>258206</th>\n",
       "      <td>Nokian Vaneritarvike Oy</td>\n",
       "      <td>1923468-3</td>\n",
       "      <td>2013</td>\n",
       "      <td>2597</td>\n",
       "      <td>palkkatuki</td>\n",
       "      <td>TE-keskus/TEM</td>\n",
       "      <td>Pirkanmaa</td>\n",
       "      <td>NaN</td>\n",
       "      <td>16</td>\n",
       "      <td>NaN</td>\n",
       "      <td>2008</td>\n",
       "      <td>NaN</td>\n",
       "    </tr>\n",
       "    <tr>\n",
       "      <th>259817</th>\n",
       "      <td>Oma Nokia Oy</td>\n",
       "      <td>2255664-0</td>\n",
       "      <td>2013</td>\n",
       "      <td>1942</td>\n",
       "      <td>palkkatuki</td>\n",
       "      <td>TE-keskus/TEM</td>\n",
       "      <td>Pirkanmaa</td>\n",
       "      <td>NaN</td>\n",
       "      <td>58</td>\n",
       "      <td>NaN</td>\n",
       "      <td>2008</td>\n",
       "      <td>NaN</td>\n",
       "    </tr>\n",
       "    <tr>\n",
       "      <th>260364</th>\n",
       "      <td>Nokian Ammatti-isännöinti Wendelin Oy</td>\n",
       "      <td>2382453-9</td>\n",
       "      <td>2013</td>\n",
       "      <td>1688</td>\n",
       "      <td>palkkatuki</td>\n",
       "      <td>TE-keskus/TEM</td>\n",
       "      <td>Pirkanmaa</td>\n",
       "      <td>NaN</td>\n",
       "      <td>68</td>\n",
       "      <td>NaN</td>\n",
       "      <td>2008</td>\n",
       "      <td>NaN</td>\n",
       "    </tr>\n",
       "    <tr>\n",
       "      <th>261243</th>\n",
       "      <td>Nokian Sähkötekijät Oy</td>\n",
       "      <td>0477683-4</td>\n",
       "      <td>2013</td>\n",
       "      <td>1298</td>\n",
       "      <td>palkkatuki</td>\n",
       "      <td>TE-keskus/TEM</td>\n",
       "      <td>Pirkanmaa</td>\n",
       "      <td>NaN</td>\n",
       "      <td>35</td>\n",
       "      <td>NaN</td>\n",
       "      <td>2008</td>\n",
       "      <td>NaN</td>\n",
       "    </tr>\n",
       "    <tr>\n",
       "      <th>262908</th>\n",
       "      <td>Altek Service Oy Nokia</td>\n",
       "      <td>2422491-4</td>\n",
       "      <td>2013</td>\n",
       "      <td>552</td>\n",
       "      <td>palkkatuki</td>\n",
       "      <td>TE-keskus/TEM</td>\n",
       "      <td>Pirkanmaa</td>\n",
       "      <td>NaN</td>\n",
       "      <td>74</td>\n",
       "      <td>NaN</td>\n",
       "      <td>2008</td>\n",
       "      <td>NaN</td>\n",
       "    </tr>\n",
       "  </tbody>\n",
       "</table>\n",
       "</div>"
      ],
      "text/plain": [
       "                                       yritys   Y-tunnus  vuosi  \\\n",
       "258206                Nokian Vaneritarvike Oy  1923468-3   2013   \n",
       "259817                           Oma Nokia Oy  2255664-0   2013   \n",
       "260364  Nokian Ammatti-isännöinti Wendelin Oy  2382453-9   2013   \n",
       "261243                 Nokian Sähkötekijät Oy  0477683-4   2013   \n",
       "262908                 Altek Service Oy Nokia  2422491-4   2013   \n",
       "\n",
       "        maksettu summa   tukimuoto       myöntäjä   maakunta  lainat TOL1  \\\n",
       "258206            2597  palkkatuki  TE-keskus/TEM  Pirkanmaa     NaN   16   \n",
       "259817            1942  palkkatuki  TE-keskus/TEM  Pirkanmaa     NaN   58   \n",
       "260364            1688  palkkatuki  TE-keskus/TEM  Pirkanmaa     NaN   68   \n",
       "261243            1298  palkkatuki  TE-keskus/TEM  Pirkanmaa     NaN   35   \n",
       "262908             552  palkkatuki  TE-keskus/TEM  Pirkanmaa     NaN   74   \n",
       "\n",
       "       TOL2 TOL versio Kommentti  \n",
       "258206  NaN       2008       NaN  \n",
       "259817  NaN       2008       NaN  \n",
       "260364  NaN       2008       NaN  \n",
       "261243  NaN       2008       NaN  \n",
       "262908  NaN       2008       NaN  "
      ]
     },
     "execution_count": 30,
     "metadata": {},
     "output_type": "execute_result"
    }
   ],
   "source": [
    "df_name_contains_nokia.tail()"
   ]
  },
  {
   "cell_type": "markdown",
   "metadata": {},
   "source": [
    "Step 2. ensures that we need to consider each candidate company once even though it may have received government subsidies several times. Step 2. is done with a rather complex expression:\n",
    "```\n",
    "df_name_contains_nokia.ix[~df_name_contains_nokia['Y-tunnus'].duplicated()]\n",
    "```"
   ]
  },
  {
   "cell_type": "markdown",
   "metadata": {},
   "source": [
    "so let's break it down before actually executing it. Expression\n",
    "```\n",
    "df_name_contains_nokia['Y-tunnus'].duplicated()\n",
    "```"
   ]
  },
  {
   "cell_type": "markdown",
   "metadata": {},
   "source": [
    "constructs a table of boolean values such that if a specific business id occurs for the first time on row `j` then the boolean value is `True` and in all subsequent rows where the same business is occurs the correspoding boolean value is `False`. \n",
    "\n",
    "Because"
   ]
  },
  {
   "cell_type": "code",
   "execution_count": 31,
   "metadata": {
    "collapsed": false
   },
   "outputs": [
    {
     "data": {
      "text/plain": [
       "0     0112038-9\n",
       "1     0112038-9\n",
       "9     0300326-6\n",
       "18    0101120-3\n",
       "36    0112038-9\n",
       "Name: Y-tunnus, dtype: object"
      ]
     },
     "execution_count": 31,
     "metadata": {},
     "output_type": "execute_result"
    }
   ],
   "source": [
    "df_name_contains_nokia['Y-tunnus'].head()"
   ]
  },
  {
   "cell_type": "markdown",
   "metadata": {},
   "source": [
    "row `0` of the boolean table should be `False` and subsequently rows `1` and `36` `True`. This is indeed the case:"
   ]
  },
  {
   "cell_type": "code",
   "execution_count": 32,
   "metadata": {
    "collapsed": false
   },
   "outputs": [
    {
     "data": {
      "text/plain": [
       "0     False\n",
       "1      True\n",
       "9     False\n",
       "18    False\n",
       "36     True\n",
       "Name: Y-tunnus, dtype: bool"
      ]
     },
     "execution_count": 32,
     "metadata": {},
     "output_type": "execute_result"
    }
   ],
   "source": [
    "df_name_contains_nokia['Y-tunnus'].duplicated().head()"
   ]
  },
  {
   "cell_type": "markdown",
   "metadata": {},
   "source": [
    "The negation opreator `~` flips the boolean values:"
   ]
  },
  {
   "cell_type": "code",
   "execution_count": 33,
   "metadata": {
    "collapsed": false
   },
   "outputs": [
    {
     "data": {
      "text/plain": [
       "0      True\n",
       "1     False\n",
       "9      True\n",
       "18     True\n",
       "36    False\n",
       "Name: Y-tunnus, dtype: bool"
      ]
     },
     "execution_count": 33,
     "metadata": {},
     "output_type": "execute_result"
    }
   ],
   "source": [
    "~df_name_contains_nokia['Y-tunnus'].duplicated().head()"
   ]
  },
  {
   "cell_type": "markdown",
   "metadata": {},
   "source": [
    "Every row in this table contains `True` when a specific business id occurs for the first time and `False` when the business id has already occurred earlier in the table. This boolean table can now be used to select rows from the orignal table, i.e., the row `j` is selected only if the row `j` of the boolean table contains `True`.\n",
    "\n",
    "To faciltate the manual selection of the right business ids, let's adjust the display settings of Pandas so that 500 lines is printed.\n",
    "\n"
   ]
  },
  {
   "cell_type": "code",
   "execution_count": 34,
   "metadata": {
    "collapsed": false
   },
   "outputs": [
    {
     "name": "stdout",
     "output_type": "stream",
     "text": [
      "                                                   yritys   Y-tunnus\n",
      "0                                               Nokia Oyj  0112038-9\n",
      "9                                 Nokia Matkapuhelimet Oy  0300326-6\n",
      "18                                      Nokia Networks Oy  0101120-3\n",
      "75                                     Nokian Renkaat Oyj  0680006-8\n",
      "2640                            Nokia Display Products Oy  0751877-7\n",
      "11421                                    Nokian Portti Oy  0789631-3\n",
      "13126                                    Telatek Nokia Oy  0753807-3\n",
      "13199                                      Nokian Väri Oy  0711312-0\n",
      "13301                          Nokian Kiinteistöhuolto Oy  0625834-4\n",
      "14172                   Nokian Kauppahuone Hanna Marja Ky  1915277-6\n",
      "15862                             Nokian Ruiskupuriste Oy  0692588-0\n",
      "17140                                       Nokian NPT Oy  0883788-4\n",
      "17587                            Suomen Terveystalo/Nokia  1706599-4\n",
      "17870                       Nokian Automaatiokoneistus Oy  0863666-0\n",
      "18139                                    Nokian Gaudeo Oy  1527883-0\n",
      "18272   Nokian Tili- ja Kiinteistötoimisto Risto Rauta...  0218145-8\n",
      "18367                     Nokia Siemens Networks Oy, Oulu  2058430-6\n",
      "18393                                     Nokian Nasta Oy  1054600-7\n",
      "18712                                     Nokian Kirja Ky  0796679-9\n",
      "20090                                   Rakennus-Nokia Oy  0929331-3\n",
      "20303                                RTV-Yhtymä Oy, Nokia  0205822-2\n",
      "20860                               Nokian Lukkohuolto Oy  0970300-1\n",
      "30298                                Nokian Kilpipaino Oy  1834108-1\n",
      "31735                                Nokian River Golf ry  0747208-6\n",
      "32256                     Nokian TMP-Ilmastointihuolto Oy  1860636-9\n",
      "32466                              Nokian Sotkan Tyttö Oy  1774856-8\n",
      "33134                         Shell Nokia/ Anssi Ylirönni  1150416-7\n",
      "33545                     Tankkauskeidas  Ay Teboil Nokia  1761714-6\n",
      "33928                    T-Sport Nokian Keittiökaluste Oy  1065862-3\n",
      "34360       Nokian ratsastuskoulu /Susanna Mäki-Lohiluoma  1116215-2\n",
      "35017                    Kotipizza, Nokia Anssi Aunola Ky  1562842-3\n",
      "35924                             Uimahallin Kahvio Nokia  1767234-8\n",
      "43518                           Nokia Asset Management Oy  1736256-9\n",
      "45628                               ABB Oy Service, Nokia  0763403-0\n",
      "45934                   Kiinteistötoimisto AsuntoNokia Oy  0936507-3\n",
      "49106                              Maintpartner Oy, Nokia  1832145-1\n",
      "49420                               Nokian Sotkanvirta Oy  1058932-2\n",
      "51960                   Kiinteistö Oy Nokian Talttakatu 3  1825087-6\n",
      "52402                                  Nokian Sinisiivous  1116433-4\n",
      "52711                                  Nokian Autotalo Oy  0988509-5\n",
      "52991                                Nokian Auto-Suhon Oy  1848557-9\n",
      "62779                                    Nokian Autokulma  1128835-3\n",
      "63328               Patria Aviation Oy, Nokian Linnavuori  0869036-8\n",
      "70315                 Nokian Liikunta- ja Viihdekeskus Oy  1093521-3\n",
      "70816                                    Nokia Touring Oy  1826685-1\n",
      "71255                               Nokian Vuokrakodit Oy  0205709-4\n",
      "73390                               Nokian TR-Building Oy  1938229-9\n",
      "84915                     Asunto Oy Nokian Insinööritalot  1927230-5\n",
      "86955                          Asunto Oy Nokian Iltarusko  1927232-1\n",
      "89783                            Nokian Lauta ja Lista Oy  1058235-8\n",
      "90193                                    Sodexho Oy Nokia  0907890-4\n",
      "99080                           Nokia Asset Management Oy  2059997-0\n",
      "101102                   Mainio Vire Oy, Ykköskodit Nokia  1893659-5\n",
      "102009                                Nokian Takuuauto Oy  1605743-1\n",
      "102417                      Nokian Kauppa-Asema Oy / SVOP  1970942-3\n",
      "102898                   Fazer Amica Ravintolat Oy, Nokia  0873697-9\n",
      "104754                            Nokian Vaneritarvike Ky  1923468-3\n",
      "109331                         Nokia Mission Kustannus Oy  2057843-2\n",
      "109832                              Nokian Copy-Offset Ky  0969727-0\n",
      "109833                         Nokian Peltisepänliike Tmi  1112512-4\n",
      "110047                       Raimo Joensuu K-Market Nokia  1141035-5\n",
      "128469                                  Itella Oyj, Nokia  1531864-4\n",
      "128824                                 Nokian Terästyö Oy  1008856-0\n",
      "130408  Nokian Hautaustoimisto ja Kukkapalvelu Reijo M...  0364046-8\n",
      "144598                               Tapiola-ryhmä, Nokia  0211034-2\n",
      "151035             Vinica Oy/ Nokia Camping Viinikanniemi  1861658-3\n",
      "151046                               Nokian Isännöinti Oy  0706054-0\n",
      "176539                          Nokian Raskaat Renkaat Oy  2001415-1\n",
      "179150                                   Tramel Oy, Nokia  2184266-1\n",
      "180881                           Nokian Metallirakenne Oy  0151481-2\n",
      "182114                             Nokian Hyllyasennus Oy  0759873-8\n",
      "182851                Hoitokoti Arwola Oy/ Nokian yksikkö  1980620-7\n",
      "182980                   Artemis Myosotis/ Faunatar Nokia  2206144-5\n",
      "183637                           Oy Garanita of Nokia Ltd  1478003-6\n",
      "183822                            As Oy Nokian Santalinna  2341574-3\n",
      "184591                            Nokian Juurakkotie 7 Oy  2141696-1\n",
      "188806                            Nokian Talotekniikka Oy  1526227-3\n",
      "189662                               Nokian Nahkatuote Oy  0300354-9\n",
      "191045                                      Tili-Nokia Oy  1861293-7\n",
      "192372                                   Nokian Biolämpö   2351809-9\n",
      "200499                                    Nokian kaupunki  0205717-4\n",
      "204657                            Nokian Teollisuusapu Oy  0652345-1\n",
      "207870                                   Nokian Panimo Oy  0872399-1\n",
      "208599              Nokian Ammatti-isännöinti Wendelin Oy  2382453-9\n",
      "209006                                     Nokian Autofix  1636773-9\n",
      "209647                                   Nokia Caravan Oy  2374756-1\n",
      "211978                             Altek Service Oy Nokia  2422491-4\n",
      "212713                                    Nokian Altek Oy  2171563-8\n",
      "225431                                 Motorshop Nokia Oy  2332945-8\n",
      "234985                              K-Citymarket Oy Nokia  1507724-6\n",
      "249869                  Autohuolto J. Salo Oy/ St 1 Nokia  0215637-5\n",
      "252616                                   Nokian Trukit Oy  0968111-3\n",
      "256047                                Europutki Oy/ Nokia  0989062-8\n",
      "259817                                       Oma Nokia Oy  2255664-0\n",
      "261243                             Nokian Sähkötekijät Oy  0477683-4\n"
     ]
    }
   ],
   "source": [
    "pd.set_option(\"display.max_rows\",500)\n",
    "print((df_name_contains_nokia.ix[~df_name_contains_nokia['Y-tunnus'].duplicated()])[['yritys','Y-tunnus']])\n",
    "pd.set_option(\"display.max_rows\",50)"
   ]
  },
  {
   "cell_type": "markdown",
   "metadata": {},
   "source": [
    "The step 3. relies on the \"contextual intelligence of a human being\" i.e, the author's ability to pick up the busienss ids of the telecommunications company from the previous table. The relevant business ids are the following: "
   ]
  },
  {
   "cell_type": "code",
   "execution_count": 35,
   "metadata": {
    "collapsed": false
   },
   "outputs": [],
   "source": [
    "list_of_nokia_business_ids = ['0112038-9','0300326-6','0101120-3','0751877-7','2058430-6','2059997-0']"
   ]
  },
  {
   "cell_type": "markdown",
   "metadata": {},
   "source": [
    "We now have the original data in the dataframe `df` and all business ids associated with the telecom company Nokia stored to Python list `list_of_nokia_business_ids`. Let's try to pict rows from the original table using the list of business ids to increase our confidence on this claim."
   ]
  },
  {
   "cell_type": "code",
   "execution_count": 36,
   "metadata": {
    "collapsed": false
   },
   "outputs": [
    {
     "data": {
      "text/html": [
       "<div>\n",
       "<table border=\"1\" class=\"dataframe\">\n",
       "  <thead>\n",
       "    <tr style=\"text-align: right;\">\n",
       "      <th></th>\n",
       "      <th>yritys</th>\n",
       "      <th>Y-tunnus</th>\n",
       "      <th>vuosi</th>\n",
       "      <th>maksettu summa</th>\n",
       "      <th>tukimuoto</th>\n",
       "      <th>myöntäjä</th>\n",
       "      <th>maakunta</th>\n",
       "      <th>lainat</th>\n",
       "      <th>TOL1</th>\n",
       "      <th>TOL2</th>\n",
       "      <th>TOL versio</th>\n",
       "      <th>Kommentti</th>\n",
       "    </tr>\n",
       "  </thead>\n",
       "  <tbody>\n",
       "    <tr>\n",
       "      <th>0</th>\n",
       "      <td>Nokia Oyj</td>\n",
       "      <td>0112038-9</td>\n",
       "      <td>1997</td>\n",
       "      <td>8471160</td>\n",
       "      <td>tutkimus- ja kehitystuki</td>\n",
       "      <td>Tekes</td>\n",
       "      <td>Uusimaa</td>\n",
       "      <td>NaN</td>\n",
       "      <td>2630</td>\n",
       "      <td>Viestintälaitteiden valmistus</td>\n",
       "      <td>NACE</td>\n",
       "      <td>NaN</td>\n",
       "    </tr>\n",
       "    <tr>\n",
       "      <th>1</th>\n",
       "      <td>Oy Nokia Ab</td>\n",
       "      <td>0112038-9</td>\n",
       "      <td>1997</td>\n",
       "      <td>2937085</td>\n",
       "      <td>tutkimus- ja kehitystuki</td>\n",
       "      <td>Tekes</td>\n",
       "      <td>Uusimaa</td>\n",
       "      <td>NaN</td>\n",
       "      <td>2630</td>\n",
       "      <td>Viestintälaitteiden valmistus</td>\n",
       "      <td>NACE</td>\n",
       "      <td>NaN</td>\n",
       "    </tr>\n",
       "    <tr>\n",
       "      <th>9</th>\n",
       "      <td>Nokia Matkapuhelimet Oy</td>\n",
       "      <td>0300326-6</td>\n",
       "      <td>1997</td>\n",
       "      <td>1124884</td>\n",
       "      <td>tutkimus- ja kehitystuki</td>\n",
       "      <td>Tekes</td>\n",
       "      <td>Varsinais-Suomi</td>\n",
       "      <td>NaN</td>\n",
       "      <td>ei_saatavilla</td>\n",
       "      <td>ei_saatavilla</td>\n",
       "      <td>NACE</td>\n",
       "      <td>NaN</td>\n",
       "    </tr>\n",
       "    <tr>\n",
       "      <th>18</th>\n",
       "      <td>Nokia Networks Oy</td>\n",
       "      <td>0101120-3</td>\n",
       "      <td>1997</td>\n",
       "      <td>750801</td>\n",
       "      <td>tutkimus- ja kehitystuki</td>\n",
       "      <td>Tekes</td>\n",
       "      <td>Uusimaa</td>\n",
       "      <td>NaN</td>\n",
       "      <td>2630</td>\n",
       "      <td>Viestintälaitteiden valmistus</td>\n",
       "      <td>NACE</td>\n",
       "      <td>NaN</td>\n",
       "    </tr>\n",
       "    <tr>\n",
       "      <th>36</th>\n",
       "      <td>Nokia Oyj</td>\n",
       "      <td>0112038-9</td>\n",
       "      <td>1997</td>\n",
       "      <td>537200</td>\n",
       "      <td>tutkimus- ja kehitystuki</td>\n",
       "      <td>Tekes</td>\n",
       "      <td>Pirkanmaa</td>\n",
       "      <td>NaN</td>\n",
       "      <td>2630</td>\n",
       "      <td>Viestintälaitteiden valmistus</td>\n",
       "      <td>NACE</td>\n",
       "      <td>NaN</td>\n",
       "    </tr>\n",
       "  </tbody>\n",
       "</table>\n",
       "</div>"
      ],
      "text/plain": [
       "                     yritys   Y-tunnus  vuosi  maksettu summa  \\\n",
       "0                 Nokia Oyj  0112038-9   1997         8471160   \n",
       "1               Oy Nokia Ab  0112038-9   1997         2937085   \n",
       "9   Nokia Matkapuhelimet Oy  0300326-6   1997         1124884   \n",
       "18        Nokia Networks Oy  0101120-3   1997          750801   \n",
       "36                Nokia Oyj  0112038-9   1997          537200   \n",
       "\n",
       "                   tukimuoto myöntäjä         maakunta  lainat           TOL1  \\\n",
       "0   tutkimus- ja kehitystuki    Tekes          Uusimaa     NaN           2630   \n",
       "1   tutkimus- ja kehitystuki    Tekes          Uusimaa     NaN           2630   \n",
       "9   tutkimus- ja kehitystuki    Tekes  Varsinais-Suomi     NaN  ei_saatavilla   \n",
       "18  tutkimus- ja kehitystuki    Tekes          Uusimaa     NaN           2630   \n",
       "36  tutkimus- ja kehitystuki    Tekes        Pirkanmaa     NaN           2630   \n",
       "\n",
       "                             TOL2 TOL versio Kommentti  \n",
       "0   Viestintälaitteiden valmistus       NACE       NaN  \n",
       "1   Viestintälaitteiden valmistus       NACE       NaN  \n",
       "9                   ei_saatavilla       NACE       NaN  \n",
       "18  Viestintälaitteiden valmistus       NACE       NaN  \n",
       "36  Viestintälaitteiden valmistus       NACE       NaN  "
      ]
     },
     "execution_count": 36,
     "metadata": {},
     "output_type": "execute_result"
    }
   ],
   "source": [
    "nokia_df = df[df['Y-tunnus'].isin(list_of_nokia_business_ids)]\n",
    "nokia_df.head()"
   ]
  },
  {
   "cell_type": "markdown",
   "metadata": {},
   "source": [
    "The first few lines of `nokia_df` indeed suggest that the created dataframe contain only rows related to Nokia companies."
   ]
  },
  {
   "cell_type": "markdown",
   "metadata": {},
   "source": [
    "A convenient way to to try clarify the amount of government subsidies granted to Nokia is to create a bar chart where x-axis consists of the years and y-axis represents the sum of all grants given during the specific year. \n",
    "In order to achieve this, we need to create a new data structure that groups all payments by year. Pandas offers a handy but somewhat complicated data structure `groups` to support this kind of data wrangling. To understand the next steps of the analysis, it is a good idea read the [grouping tutorial](http://pandas.pydata.org/pandas-docs/stable/groupby.html) of Pandas."
   ]
  },
  {
   "cell_type": "markdown",
   "metadata": {},
   "source": [
    "Let's create a group object `g`:"
   ]
  },
  {
   "cell_type": "code",
   "execution_count": 37,
   "metadata": {
    "collapsed": false
   },
   "outputs": [],
   "source": [
    "g = nokia_df.groupby(['vuosi'])"
   ]
  },
  {
   "cell_type": "markdown",
   "metadata": {
    "collapsed": false
   },
   "source": [
    "A convenient way to get an overview about data is to summarize the payments for each year. This data will be employed in the plotting later."
   ]
  },
  {
   "cell_type": "code",
   "execution_count": 38,
   "metadata": {
    "collapsed": false
   },
   "outputs": [
    {
     "data": {
      "text/html": [
       "<div>\n",
       "<table border=\"1\" class=\"dataframe\">\n",
       "  <thead>\n",
       "    <tr style=\"text-align: right;\">\n",
       "      <th></th>\n",
       "      <th>maksettu summa</th>\n",
       "    </tr>\n",
       "    <tr>\n",
       "      <th>vuosi</th>\n",
       "      <th></th>\n",
       "    </tr>\n",
       "  </thead>\n",
       "  <tbody>\n",
       "    <tr>\n",
       "      <th>1997</th>\n",
       "      <td>14137582</td>\n",
       "    </tr>\n",
       "    <tr>\n",
       "      <th>1998</th>\n",
       "      <td>11520042</td>\n",
       "    </tr>\n",
       "    <tr>\n",
       "      <th>1999</th>\n",
       "      <td>15092084</td>\n",
       "    </tr>\n",
       "    <tr>\n",
       "      <th>2000</th>\n",
       "      <td>7636565</td>\n",
       "    </tr>\n",
       "    <tr>\n",
       "      <th>2001</th>\n",
       "      <td>6268077</td>\n",
       "    </tr>\n",
       "    <tr>\n",
       "      <th>2002</th>\n",
       "      <td>10293206</td>\n",
       "    </tr>\n",
       "    <tr>\n",
       "      <th>2003</th>\n",
       "      <td>14373889</td>\n",
       "    </tr>\n",
       "    <tr>\n",
       "      <th>2004</th>\n",
       "      <td>13088850</td>\n",
       "    </tr>\n",
       "    <tr>\n",
       "      <th>2005</th>\n",
       "      <td>13484556</td>\n",
       "    </tr>\n",
       "    <tr>\n",
       "      <th>2006</th>\n",
       "      <td>14859081</td>\n",
       "    </tr>\n",
       "    <tr>\n",
       "      <th>2007</th>\n",
       "      <td>12826279</td>\n",
       "    </tr>\n",
       "    <tr>\n",
       "      <th>2008</th>\n",
       "      <td>12642229</td>\n",
       "    </tr>\n",
       "    <tr>\n",
       "      <th>2009</th>\n",
       "      <td>13646833</td>\n",
       "    </tr>\n",
       "    <tr>\n",
       "      <th>2010</th>\n",
       "      <td>13723473</td>\n",
       "    </tr>\n",
       "    <tr>\n",
       "      <th>2011</th>\n",
       "      <td>15859828</td>\n",
       "    </tr>\n",
       "    <tr>\n",
       "      <th>2012</th>\n",
       "      <td>13681361</td>\n",
       "    </tr>\n",
       "    <tr>\n",
       "      <th>2013</th>\n",
       "      <td>11319986</td>\n",
       "    </tr>\n",
       "  </tbody>\n",
       "</table>\n",
       "</div>"
      ],
      "text/plain": [
       "       maksettu summa\n",
       "vuosi                \n",
       "1997         14137582\n",
       "1998         11520042\n",
       "1999         15092084\n",
       "2000          7636565\n",
       "2001          6268077\n",
       "2002         10293206\n",
       "2003         14373889\n",
       "2004         13088850\n",
       "2005         13484556\n",
       "2006         14859081\n",
       "2007         12826279\n",
       "2008         12642229\n",
       "2009         13646833\n",
       "2010         13723473\n",
       "2011         15859828\n",
       "2012         13681361\n",
       "2013         11319986"
      ]
     },
     "execution_count": 38,
     "metadata": {},
     "output_type": "execute_result"
    }
   ],
   "source": [
    "g[['maksettu summa']].sum()"
   ]
  },
  {
   "cell_type": "markdown",
   "metadata": {
    "collapsed": false,
    "scrolled": true
   },
   "source": [
    "Another way to get overview of the data is to count how many items there are in each group:"
   ]
  },
  {
   "cell_type": "code",
   "execution_count": 39,
   "metadata": {
    "collapsed": false
   },
   "outputs": [
    {
     "data": {
      "text/plain": [
       "vuosi\n",
       "1997    9\n",
       "1998    9\n",
       "1999    6\n",
       "2000    7\n",
       "2001    8\n",
       "2002    3\n",
       "2003    5\n",
       "2004    3\n",
       "2005    3\n",
       "2006    4\n",
       "2007    5\n",
       "2008    6\n",
       "2009    6\n",
       "2010    7\n",
       "2011    7\n",
       "2012    7\n",
       "2013    7\n",
       "dtype: int64"
      ]
     },
     "execution_count": 39,
     "metadata": {},
     "output_type": "execute_result"
    }
   ],
   "source": [
    "g.size()"
   ]
  },
  {
   "cell_type": "markdown",
   "metadata": {},
   "source": [
    "Let's now create the bar plot of payments. It is a good idea to read the documentation of [pandas.DataFrame.plot](http://pandas.pydata.org/pandas-docs/stable/generated/pandas.DataFrame.plot.html) as well as to understand that `DataFrameGroupBy`object also has the [plot()](http://pandas.pydata.org/pandas-docs/stable/generated/pandas.core.groupby.DataFrameGroupBy.plot.html) method."
   ]
  },
  {
   "cell_type": "markdown",
   "metadata": {},
   "source": [
    "To embed the generated plot into this notebook rather than present it otherwise, the following magic command mus be given: "
   ]
  },
  {
   "cell_type": "code",
   "execution_count": 40,
   "metadata": {
    "collapsed": true
   },
   "outputs": [],
   "source": [
    "%matplotlib inline"
   ]
  },
  {
   "cell_type": "markdown",
   "metadata": {},
   "source": [
    "We are now ready for the actual plotting:"
   ]
  },
  {
   "cell_type": "code",
   "execution_count": 41,
   "metadata": {
    "collapsed": false
   },
   "outputs": [
    {
     "data": {
      "text/plain": [
       "<matplotlib.axes._subplots.AxesSubplot at 0x7fea9601ebe0>"
      ]
     },
     "execution_count": 41,
     "metadata": {},
     "output_type": "execute_result"
    },
    {
     "data": {
      "image/png": "[encoded data removed]",
      "text/plain": [
       "<matplotlib.figure.Figure at 0x7fea9601e160>"
      ]
     },
     "metadata": {},
     "output_type": "display_data"
    }
   ],
   "source": [
    "g[['maksettu summa']].sum().plot(kind='bar',title=\"Nokia subsidies\")"
   ]
  },
  {
   "cell_type": "markdown",
   "metadata": {},
   "source": [
    "While the actual plotting succeeded and the height of the bars seem to be consistent with the summary table above, the scale of the Y-axis makes is difficult to read the absolute sums. It seems that yearly sums are millions or tens of millions of Euros, so let's scale the Y-axis with 1000000. A nice feature of Pandas data structures is that operations on all elements of a data structure can be done easily: "
   ]
  },
  {
   "cell_type": "code",
   "execution_count": 42,
   "metadata": {
    "collapsed": false
   },
   "outputs": [
    {
     "data": {
      "text/plain": [
       "<matplotlib.axes._subplots.AxesSubplot at 0x7fea953c2c88>"
      ]
     },
     "execution_count": 42,
     "metadata": {},
     "output_type": "execute_result"
    },
    {
     "data": {
      "image/png": "[encoded data removed]",
      "text/plain": [
       "<matplotlib.figure.Figure at 0x7fea95376a58>"
      ]
     },
     "metadata": {},
     "output_type": "display_data"
    }
   ],
   "source": [
    "(g[['maksettu summa']].sum()/1000000).plot(kind='bar',title=\"Nokia subsidies, M€\")"
   ]
  },
  {
   "cell_type": "markdown",
   "metadata": {
    "collapsed": false
   },
   "source": [
    "It is now much easier to see, e.g., that Nokia received approximately 14 M€ of support in 1997 whereas in 2001 the level of subsidies was a little over 6 M€."
   ]
  },
  {
   "cell_type": "markdown",
   "metadata": {},
   "source": [
    "## The answer"
   ]
  },
  {
   "cell_type": "markdown",
   "metadata": {},
   "source": [
    "In the early stages of the analysis, the following question was asked:\n",
    "\n",
    "> ** Did the level of the yearly subsidies for the company X increase, decrease **\n",
    "> ** or stay at the same level during the timespan described by the data ?**\n",
    "(\"company X\" = Nokia)\n",
    "\n",
    "By looking the the plot above one could give the following answer:\n",
    "- During the years 1997-2001 the subsidies were decreasing from 14 M€/year to 6 M€/year except in the year 1999 when approximately 15,5 M€ was granted.\n",
    "- During the years 2001-2006 the yearly subsidies were increasing from 6 M€ to 14,5 M€ except in the year 2003 when 14 M€ were granted.\n",
    "- During the period of 2007-2012 the amount of yearly subsidies was fairly stable, i.e., little over 13 M€/year except in 2011 when little less thatn 16 M€ was granted.\n",
    "- In 2012 the amount of subsidies started to drop radically.\n"
   ]
  },
  {
   "cell_type": "markdown",
   "metadata": {
    "collapsed": true
   },
   "source": [
    "## Summary"
   ]
  },
  {
   "cell_type": "markdown",
   "metadata": {},
   "source": [
    "A piece of common wisdom of data analytics suggests that most of the time and effort goes to the cleaning and preparing data for the actual analysis. When the data is well understood and clean and the relevant questions have been explicitly stated, the actual analysis is straightforward. The was clearly the case also with the data & questions presented above."
   ]
  }
 ],
 "metadata": {
  "kernelspec": {
   "display_name": "Python 3",
   "language": "python",
   "name": "python3"
  },
  "language_info": {
   "codemirror_mode": {
    "name": "ipython",
    "version": 3
   },
   "file_extension": ".py",
   "mimetype": "text/x-python",
   "name": "python",
   "nbconvert_exporter": "python",
   "pygments_lexer": "ipython3",
   "version": "3.4.3"
  }
 },
 "nbformat": 4,
 "nbformat_minor": 0
}
